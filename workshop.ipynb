{
 "cells": [
  {
   "cell_type": "markdown",
   "metadata": {},
   "source": [
    "# 1. Sentiment analysis\n",
    "\n",
    "Using the [Large Movie Review Dataset](http://ai.stanford.edu/~amaas/data/sentiment/), we want to do a regression model that predict the ratings are on a 1-10 scale. You have an example train and test set in the `dataset` folder.\n",
    "\n",
    "### 1.1 Regression Model\n",
    "\n",
    "Use a feedforward neural network and NLP techniques we've seen up to now to train the best model you can on this dataset\n",
    "\n",
    "### 1.2 RNN model\n",
    "\n",
    "Train a RNN to do the sentiment analysis regression. The RNN should consist simply of an embedding layer (to make word IDs into word vectors) a recurrent blocks (GRU or LSTM) feeding into an output layer."
   ]
  },
  {
   "cell_type": "code",
   "execution_count": 1,
   "metadata": {},
   "outputs": [],
   "source": [
    "import pandas as pd\n",
    "import numpy as np"
   ]
  },
  {
   "cell_type": "code",
   "execution_count": 2,
   "metadata": {},
   "outputs": [
    {
     "data": {
      "text/html": [
       "<div>\n",
       "<style scoped>\n",
       "    .dataframe tbody tr th:only-of-type {\n",
       "        vertical-align: middle;\n",
       "    }\n",
       "\n",
       "    .dataframe tbody tr th {\n",
       "        vertical-align: top;\n",
       "    }\n",
       "\n",
       "    .dataframe thead th {\n",
       "        text-align: right;\n",
       "    }\n",
       "</style>\n",
       "<table border=\"1\" class=\"dataframe\">\n",
       "  <thead>\n",
       "    <tr style=\"text-align: right;\">\n",
       "      <th></th>\n",
       "      <th>Rating</th>\n",
       "      <th>Review</th>\n",
       "    </tr>\n",
       "  </thead>\n",
       "  <tbody>\n",
       "    <tr>\n",
       "      <th>0</th>\n",
       "      <td>2</td>\n",
       "      <td>this movie only gets a second star because i work downtown and liked seeing it destroyed. the effects were pretty good- i hear it was the most expensive Korean film e...</td>\n",
       "    </tr>\n",
       "    <tr>\n",
       "      <th>1</th>\n",
       "      <td>8</td>\n",
       "      <td>As I watched this movie, and I began to see its' characters develop I could feel this would be an excellent picture. When you get that feeling, and the movie indeed f...</td>\n",
       "    </tr>\n",
       "    <tr>\n",
       "      <th>2</th>\n",
       "      <td>4</td>\n",
       "      <td>this seemed an odd combination of Withnail and I with A Room with a View.. sometimes it worked, other times it did not. tragedy that they changed the name for the US ...</td>\n",
       "    </tr>\n",
       "    <tr>\n",
       "      <th>3</th>\n",
       "      <td>9</td>\n",
       "      <td>When I saw the Exterminators of year 3000 at first time, I had no expectations for that movie. Although, it wasn't so bad as I was thought. It's kind of Italian versi...</td>\n",
       "    </tr>\n",
       "    <tr>\n",
       "      <th>4</th>\n",
       "      <td>9</td>\n",
       "      <td>This is a very entertaining flick, considering the budget and its length. The storyline is hardly ever touched on in the movie world so it also brought a sense of nov...</td>\n",
       "    </tr>\n",
       "    <tr>\n",
       "      <th>...</th>\n",
       "      <td>...</td>\n",
       "      <td>...</td>\n",
       "    </tr>\n",
       "    <tr>\n",
       "      <th>95</th>\n",
       "      <td>2</td>\n",
       "      <td>Oh my. I decided to go out to the cinemas with some friends, wanting to watch one of those mild, feel-good Christmas movies, and I walk out disgusted. The movie faile...</td>\n",
       "    </tr>\n",
       "    <tr>\n",
       "      <th>96</th>\n",
       "      <td>7</td>\n",
       "      <td>It appears even the director doesn't like this film,but for me I think he's being a bit harsh on himself.  Sure it's not perfect, but there are some atmospheric shots...</td>\n",
       "    </tr>\n",
       "    <tr>\n",
       "      <th>97</th>\n",
       "      <td>9</td>\n",
       "      <td>The thing I remember most about this film is that it used to air on local KTLA TV (Ch. 5) during every Christmas season during the mid to late 70s, mainly due to the ...</td>\n",
       "    </tr>\n",
       "    <tr>\n",
       "      <th>98</th>\n",
       "      <td>7</td>\n",
       "      <td>I recently saw I.Q. and even though I'm not a romantic comedy type of gal, I think that it was just a nice and sweet movie to watch. So many movies in my opinion lack...</td>\n",
       "    </tr>\n",
       "    <tr>\n",
       "      <th>99</th>\n",
       "      <td>1</td>\n",
       "      <td>The Lack of content in this movie amazed me the most. First i though that people was going to compare this to Rock On! but i'm really surprised myself to say that thi...</td>\n",
       "    </tr>\n",
       "  </tbody>\n",
       "</table>\n",
       "<p>100 rows × 2 columns</p>\n",
       "</div>"
      ],
      "text/plain": [
       "    Rating  \\\n",
       "0        2   \n",
       "1        8   \n",
       "2        4   \n",
       "3        9   \n",
       "4        9   \n",
       "..     ...   \n",
       "95       2   \n",
       "96       7   \n",
       "97       9   \n",
       "98       7   \n",
       "99       1   \n",
       "\n",
       "                                                                                                                                                                       Review  \n",
       "0   this movie only gets a second star because i work downtown and liked seeing it destroyed. the effects were pretty good- i hear it was the most expensive Korean film e...  \n",
       "1   As I watched this movie, and I began to see its' characters develop I could feel this would be an excellent picture. When you get that feeling, and the movie indeed f...  \n",
       "2   this seemed an odd combination of Withnail and I with A Room with a View.. sometimes it worked, other times it did not. tragedy that they changed the name for the US ...  \n",
       "3   When I saw the Exterminators of year 3000 at first time, I had no expectations for that movie. Although, it wasn't so bad as I was thought. It's kind of Italian versi...  \n",
       "4   This is a very entertaining flick, considering the budget and its length. The storyline is hardly ever touched on in the movie world so it also brought a sense of nov...  \n",
       "..                                                                                                                                                                        ...  \n",
       "95  Oh my. I decided to go out to the cinemas with some friends, wanting to watch one of those mild, feel-good Christmas movies, and I walk out disgusted. The movie faile...  \n",
       "96  It appears even the director doesn't like this film,but for me I think he's being a bit harsh on himself.  Sure it's not perfect, but there are some atmospheric shots...  \n",
       "97  The thing I remember most about this film is that it used to air on local KTLA TV (Ch. 5) during every Christmas season during the mid to late 70s, mainly due to the ...  \n",
       "98  I recently saw I.Q. and even though I'm not a romantic comedy type of gal, I think that it was just a nice and sweet movie to watch. So many movies in my opinion lack...  \n",
       "99  The Lack of content in this movie amazed me the most. First i though that people was going to compare this to Rock On! but i'm really surprised myself to say that thi...  \n",
       "\n",
       "[100 rows x 2 columns]"
      ]
     },
     "execution_count": 2,
     "metadata": {},
     "output_type": "execute_result"
    }
   ],
   "source": [
    "pd.set_option('display.max_colwidth', 170) #widen pandas rows display\n",
    "\n",
    "train = pd.read_csv('dataset/example_train_imdb_reviews.csv', encoding='utf-8')\n",
    "test = pd.read_csv('dataset/example_test_imdb_reviews.csv', encoding='utf-8')\n",
    "train"
   ]
  },
  {
   "cell_type": "code",
   "execution_count": 3,
   "metadata": {},
   "outputs": [
    {
     "name": "stderr",
     "output_type": "stream",
     "text": [
      "[nltk_data] Downloading package stopwords to\n",
      "[nltk_data]     C:\\Users\\gayar\\AppData\\Roaming\\nltk_data...\n",
      "[nltk_data]   Package stopwords is already up-to-date!\n",
      "[nltk_data] Downloading package wordnet to\n",
      "[nltk_data]     C:\\Users\\gayar\\AppData\\Roaming\\nltk_data...\n",
      "[nltk_data]   Package wordnet is already up-to-date!\n"
     ]
    },
    {
     "data": {
      "text/plain": [
       "True"
      ]
     },
     "execution_count": 3,
     "metadata": {},
     "output_type": "execute_result"
    }
   ],
   "source": [
    "import re\n",
    "import string\n",
    "import nltk\n",
    "from nltk.corpus import stopwords\n",
    "nltk.download('stopwords')\n",
    "nltk.download('wordnet')"
   ]
  },
  {
   "cell_type": "code",
   "execution_count": 4,
   "metadata": {},
   "outputs": [
    {
     "name": "stdout",
     "output_type": "stream",
     "text": [
      "['i', 'me', 'my', 'myself', 'we', 'our', 'ours', 'ourselves', 'you', \"you're\", \"you've\", \"you'll\", \"you'd\", 'your', 'yours', 'yourself', 'yourselves', 'he', 'him', 'his', 'himself', 'she', \"she's\", 'her', 'hers', 'herself', 'it', \"it's\", 'its', 'itself', 'they', 'them', 'their', 'theirs', 'themselves', 'what', 'which', 'who', 'whom', 'this', 'that', \"that'll\", 'these', 'those', 'am', 'is', 'are', 'was', 'were', 'be', 'been', 'being', 'have', 'has', 'had', 'having', 'do', 'does', 'did', 'doing', 'a', 'an', 'the', 'and', 'but', 'if', 'or', 'because', 'as', 'until', 'while', 'of', 'at', 'by', 'for', 'with', 'about', 'against', 'between', 'into', 'through', 'during', 'before', 'after', 'above', 'below', 'to', 'from', 'up', 'down', 'in', 'out', 'on', 'off', 'over', 'under', 'again', 'further', 'then', 'once', 'here', 'there', 'when', 'where', 'why', 'how', 'all', 'any', 'both', 'each', 'few', 'more', 'most', 'other', 'some', 'such', 'no', 'nor', 'not', 'only', 'own', 'same', 'so', 'than', 'too', 'very', 's', 't', 'can', 'will', 'just', 'don', \"don't\", 'should', \"should've\", 'now', 'd', 'll', 'm', 'o', 're', 've', 'y', 'ain', 'aren', \"aren't\", 'couldn', \"couldn't\", 'didn', \"didn't\", 'doesn', \"doesn't\", 'hadn', \"hadn't\", 'hasn', \"hasn't\", 'haven', \"haven't\", 'isn', \"isn't\", 'ma', 'mightn', \"mightn't\", 'mustn', \"mustn't\", 'needn', \"needn't\", 'shan', \"shan't\", 'shouldn', \"shouldn't\", 'wasn', \"wasn't\", 'weren', \"weren't\", 'won', \"won't\", 'wouldn', \"wouldn't\"]\n"
     ]
    }
   ],
   "source": [
    "print(stopwords.words('english'))"
   ]
  },
  {
   "cell_type": "code",
   "execution_count": 5,
   "metadata": {},
   "outputs": [],
   "source": [
    "# Import Lemmatizer from NLTK\n",
    "from nltk.stem import WordNetLemmatizer\n",
    "\n",
    "lemmatizer = WordNetLemmatizer()\n",
    "\n",
    "# function that receive a list of words and do lemmatization:\n",
    "def lemma_stem_text(words_list):\n",
    "    # Lemmatizer\n",
    "    text = [lemmatizer.lemmatize(token.lower()) for token in words_list]\n",
    "    text = [lemmatizer.lemmatize(token.lower(), \"v\") for token in text]\n",
    "    return text"
   ]
  },
  {
   "cell_type": "code",
   "execution_count": 6,
   "metadata": {},
   "outputs": [],
   "source": [
    "from bs4 import BeautifulSoup\n",
    "\n",
    "#Creating a function for cleaning of data\n",
    "def clean_text(raw_text):\n",
    "    # 1. remove HTML tags\n",
    "    raw_text = BeautifulSoup(raw_text).get_text() \n",
    "    \n",
    "    # 2. removing all non letters from text\n",
    "    letters_only = re.sub(\"[^a-zA-Z]\", \" \", raw_text) \n",
    "    \n",
    "    # 3. Convert to lower case, split into individual words\n",
    "    words = letters_only.lower().split()                           \n",
    "    \n",
    "    # 4. Create variable which contain set of stopwords\n",
    "    stops = set(stopwords.words(\"english\"))\n",
    "    stops_indo = set(stopwords.words(\"indonesian\"))\n",
    "    stops.update(stops_indo)\n",
    "    \n",
    "    # 5. Remove stop word & returning   \n",
    "    words_tmp = [w for w in words if not w in stops]\n",
    "\n",
    "    # 6. Apply lemmatization function\n",
    "    words_lemm = lemma_stem_text(words_tmp)\n",
    "\n",
    "    # 7. Finalize\n",
    "    return [w for w in words_lemm]"
   ]
  },
  {
   "cell_type": "code",
   "execution_count": 7,
   "metadata": {},
   "outputs": [
    {
     "name": "stdout",
     "output_type": "stream",
     "text": [
      "The longest review is :\n",
      "It breaks my heart that this movie is not appreciated as it should be. its very underrated. people forgot what movies are really about, nowadays they only think about bum bum movies, which can be quite fun watching with popcorn and friends, like transformers, movies which are oriented, with hyper mega high budget like 300mln or even higher, on special effects only and which are dumb movies without storyline. Its the kind of a movie what i despite most. Of course it is fun watching greatly made CGIs, but we do not gain anything essential from that kind of movies.  I honestly think that performance was excellent. Especially Busy Philipps, alongside with Erika Christensen and Victor Garber(whom i respect) made this movie an Oscar worth. Emotional performance by Busy Philipps was astonishing, its such a shame we wont see Oscar in her hands, which she deserves.\n"
     ]
    }
   ],
   "source": [
    "# run text cleaning on longest review\n",
    "\n",
    "test_review = train['Review'].str.len().argmax()\n",
    "print('The longest review is :')\n",
    "print(train['Review'][test_review])"
   ]
  },
  {
   "cell_type": "code",
   "execution_count": 8,
   "metadata": {},
   "outputs": [
    {
     "name": "stdout",
     "output_type": "stream",
     "text": [
      "The longest review has 146 words.\n"
     ]
    }
   ],
   "source": [
    "print(f\"The longest review has {len(train['Review'][test_review].lower().split())} words.\")"
   ]
  },
  {
   "cell_type": "code",
   "execution_count": 9,
   "metadata": {},
   "outputs": [
    {
     "name": "stdout",
     "output_type": "stream",
     "text": [
      "List of clean words :\n",
      "['break', 'heart', 'movie', 'appreciate', 'underrate', 'people', 'forget', 'movie', 'really', 'nowadays', 'think', 'bum', 'bum', 'movie', 'quite', 'fun', 'watch', 'popcorn', 'friend', 'like', 'transformer', 'movie', 'orient', 'hyper', 'mega', 'high', 'budget', 'like', 'mln', 'even', 'higher', 'special', 'effect', 'dumb', 'movie', 'without', 'storyline', 'kind', 'movie', 'despite', 'course', 'fun', 'watch', 'greatly', 'make', 'cgis', 'gain', 'anything', 'essential', 'kind', 'movie', 'honestly', 'think', 'performance', 'excellent', 'especially', 'busy', 'philipps', 'alongside', 'erika', 'christensen', 'victor', 'garber', 'respect', 'make', 'movie', 'oscar', 'worth', 'emotional', 'performance', 'busy', 'philipps', 'astonish', 'shame', 'wont', 'see', 'oscar', 'hand', 'deserve']\n"
     ]
    }
   ],
   "source": [
    "print('List of clean words :')\n",
    "print(clean_text(train['Review'][test_review]))"
   ]
  },
  {
   "cell_type": "code",
   "execution_count": 10,
   "metadata": {},
   "outputs": [
    {
     "name": "stdout",
     "output_type": "stream",
     "text": [
      "The cleaned text has 79 words.\n"
     ]
    }
   ],
   "source": [
    "print(f\"The cleaned text has {len(clean_text(train['Review'][test_review]))} words.\")"
   ]
  },
  {
   "cell_type": "code",
   "execution_count": 11,
   "metadata": {},
   "outputs": [
    {
     "name": "stdout",
     "output_type": "stream",
     "text": [
      "The longest review (movie ID 50) has a rating of 8.\n"
     ]
    }
   ],
   "source": [
    "print(f\"The longest review (movie ID {test_review}) has a rating of {train['Rating'][test_review]}.\")"
   ]
  },
  {
   "cell_type": "code",
   "execution_count": 12,
   "metadata": {},
   "outputs": [],
   "source": [
    "clean_words = []\n",
    "for i in range(len(train['Review'])):\n",
    "    res = clean_text(train['Review'][i])\n",
    "    res_len = len(res)\n",
    "    clean_words.append(res)"
   ]
  },
  {
   "cell_type": "code",
   "execution_count": 13,
   "metadata": {},
   "outputs": [
    {
     "data": {
      "text/html": [
       "<div>\n",
       "<style scoped>\n",
       "    .dataframe tbody tr th:only-of-type {\n",
       "        vertical-align: middle;\n",
       "    }\n",
       "\n",
       "    .dataframe tbody tr th {\n",
       "        vertical-align: top;\n",
       "    }\n",
       "\n",
       "    .dataframe thead th {\n",
       "        text-align: right;\n",
       "    }\n",
       "</style>\n",
       "<table border=\"1\" class=\"dataframe\">\n",
       "  <thead>\n",
       "    <tr style=\"text-align: right;\">\n",
       "      <th></th>\n",
       "      <th>Rating</th>\n",
       "      <th>Review</th>\n",
       "      <th>clean_words</th>\n",
       "    </tr>\n",
       "  </thead>\n",
       "  <tbody>\n",
       "    <tr>\n",
       "      <th>0</th>\n",
       "      <td>2</td>\n",
       "      <td>this movie only gets a second star because i work downtown and liked seeing it destroyed. the effects were pretty good- i hear it was the most expensive Korean film e...</td>\n",
       "      <td>[movie, get, second, star, work, downtown, like, see, destroy, effect, pretty, good, hear, expensive, korean, film, ever, make, expensive, still, absolutely, horrid, ...</td>\n",
       "    </tr>\n",
       "    <tr>\n",
       "      <th>1</th>\n",
       "      <td>8</td>\n",
       "      <td>As I watched this movie, and I began to see its' characters develop I could feel this would be an excellent picture. When you get that feeling, and the movie indeed f...</td>\n",
       "      <td>[watch, movie, begin, see, character, develop, could, feel, would, excellent, picture, get, feel, movie, indeed, fill, expectation, experience, rare, feel, throughout...</td>\n",
       "    </tr>\n",
       "    <tr>\n",
       "      <th>2</th>\n",
       "      <td>4</td>\n",
       "      <td>this seemed an odd combination of Withnail and I with A Room with a View.. sometimes it worked, other times it did not. tragedy that they changed the name for the US ...</td>\n",
       "      <td>[seem, odd, combination, withnail, room, view, sometimes, work, time, tragedy, change, name, u, release, though, keep, apidistra, fly, much, better, nothing, title, m...</td>\n",
       "    </tr>\n",
       "    <tr>\n",
       "      <th>3</th>\n",
       "      <td>9</td>\n",
       "      <td>When I saw the Exterminators of year 3000 at first time, I had no expectations for that movie. Although, it wasn't so bad as I was thought. It's kind of Italian versi...</td>\n",
       "      <td>[saw, exterminator, year, first, time, expectation, movie, although, bad, think, kind, italian, version, roadwarrior, cast, almost, famous, italy, include, venantino,...</td>\n",
       "    </tr>\n",
       "    <tr>\n",
       "      <th>4</th>\n",
       "      <td>9</td>\n",
       "      <td>This is a very entertaining flick, considering the budget and its length. The storyline is hardly ever touched on in the movie world so it also brought a sense of nov...</td>\n",
       "      <td>[entertain, flick, consider, budget, length, storyline, hardly, ever, touch, movie, world, also, bring, sense, novelty, act, great, p, z, dom, cinematography, also, w...</td>\n",
       "    </tr>\n",
       "    <tr>\n",
       "      <th>...</th>\n",
       "      <td>...</td>\n",
       "      <td>...</td>\n",
       "      <td>...</td>\n",
       "    </tr>\n",
       "    <tr>\n",
       "      <th>95</th>\n",
       "      <td>2</td>\n",
       "      <td>Oh my. I decided to go out to the cinemas with some friends, wanting to watch one of those mild, feel-good Christmas movies, and I walk out disgusted. The movie faile...</td>\n",
       "      <td>[oh, decide, go, cinema, friend, want, watch, one, mild, feel, good, christmas, movie, walk, disgust, movie, fail, full, stop, paul, giamatti, consider, good, actor, ...</td>\n",
       "    </tr>\n",
       "    <tr>\n",
       "      <th>96</th>\n",
       "      <td>7</td>\n",
       "      <td>It appears even the director doesn't like this film,but for me I think he's being a bit harsh on himself.  Sure it's not perfect, but there are some atmospheric shots...</td>\n",
       "      <td>[appear, even, director, like, film, think, bite, harsh, sure, perfect, atmospheric, shoot, story, good, enough, keep, interest, throughout, shoot, appear, quite, pre...</td>\n",
       "    </tr>\n",
       "    <tr>\n",
       "      <th>97</th>\n",
       "      <td>9</td>\n",
       "      <td>The thing I remember most about this film is that it used to air on local KTLA TV (Ch. 5) during every Christmas season during the mid to late 70s, mainly due to the ...</td>\n",
       "      <td>[thing, remember, film, use, air, local, ktla, tv, ch, every, christmas, season, mid, late, mainly, due, fact, true, story, take, place, near, christmas, eve, always,...</td>\n",
       "    </tr>\n",
       "    <tr>\n",
       "      <th>98</th>\n",
       "      <td>7</td>\n",
       "      <td>I recently saw I.Q. and even though I'm not a romantic comedy type of gal, I think that it was just a nice and sweet movie to watch. So many movies in my opinion lack...</td>\n",
       "      <td>[recently, saw, q, even, though, romantic, comedy, type, gal, think, nice, sweet, movie, watch, many, movie, opinion, lack, honesty, know, feel, watch, movie, feel, r...</td>\n",
       "    </tr>\n",
       "    <tr>\n",
       "      <th>99</th>\n",
       "      <td>1</td>\n",
       "      <td>The Lack of content in this movie amazed me the most. First i though that people was going to compare this to Rock On! but i'm really surprised myself to say that thi...</td>\n",
       "      <td>[lack, content, movie, amaze, first, though, people, go, compare, rock, really, surprise, say, worst, rock, story, horrible, cast, ajay, devgan, jam, salman, khan, as...</td>\n",
       "    </tr>\n",
       "  </tbody>\n",
       "</table>\n",
       "<p>100 rows × 3 columns</p>\n",
       "</div>"
      ],
      "text/plain": [
       "    Rating  \\\n",
       "0        2   \n",
       "1        8   \n",
       "2        4   \n",
       "3        9   \n",
       "4        9   \n",
       "..     ...   \n",
       "95       2   \n",
       "96       7   \n",
       "97       9   \n",
       "98       7   \n",
       "99       1   \n",
       "\n",
       "                                                                                                                                                                       Review  \\\n",
       "0   this movie only gets a second star because i work downtown and liked seeing it destroyed. the effects were pretty good- i hear it was the most expensive Korean film e...   \n",
       "1   As I watched this movie, and I began to see its' characters develop I could feel this would be an excellent picture. When you get that feeling, and the movie indeed f...   \n",
       "2   this seemed an odd combination of Withnail and I with A Room with a View.. sometimes it worked, other times it did not. tragedy that they changed the name for the US ...   \n",
       "3   When I saw the Exterminators of year 3000 at first time, I had no expectations for that movie. Although, it wasn't so bad as I was thought. It's kind of Italian versi...   \n",
       "4   This is a very entertaining flick, considering the budget and its length. The storyline is hardly ever touched on in the movie world so it also brought a sense of nov...   \n",
       "..                                                                                                                                                                        ...   \n",
       "95  Oh my. I decided to go out to the cinemas with some friends, wanting to watch one of those mild, feel-good Christmas movies, and I walk out disgusted. The movie faile...   \n",
       "96  It appears even the director doesn't like this film,but for me I think he's being a bit harsh on himself.  Sure it's not perfect, but there are some atmospheric shots...   \n",
       "97  The thing I remember most about this film is that it used to air on local KTLA TV (Ch. 5) during every Christmas season during the mid to late 70s, mainly due to the ...   \n",
       "98  I recently saw I.Q. and even though I'm not a romantic comedy type of gal, I think that it was just a nice and sweet movie to watch. So many movies in my opinion lack...   \n",
       "99  The Lack of content in this movie amazed me the most. First i though that people was going to compare this to Rock On! but i'm really surprised myself to say that thi...   \n",
       "\n",
       "                                                                                                                                                                  clean_words  \n",
       "0   [movie, get, second, star, work, downtown, like, see, destroy, effect, pretty, good, hear, expensive, korean, film, ever, make, expensive, still, absolutely, horrid, ...  \n",
       "1   [watch, movie, begin, see, character, develop, could, feel, would, excellent, picture, get, feel, movie, indeed, fill, expectation, experience, rare, feel, throughout...  \n",
       "2   [seem, odd, combination, withnail, room, view, sometimes, work, time, tragedy, change, name, u, release, though, keep, apidistra, fly, much, better, nothing, title, m...  \n",
       "3   [saw, exterminator, year, first, time, expectation, movie, although, bad, think, kind, italian, version, roadwarrior, cast, almost, famous, italy, include, venantino,...  \n",
       "4   [entertain, flick, consider, budget, length, storyline, hardly, ever, touch, movie, world, also, bring, sense, novelty, act, great, p, z, dom, cinematography, also, w...  \n",
       "..                                                                                                                                                                        ...  \n",
       "95  [oh, decide, go, cinema, friend, want, watch, one, mild, feel, good, christmas, movie, walk, disgust, movie, fail, full, stop, paul, giamatti, consider, good, actor, ...  \n",
       "96  [appear, even, director, like, film, think, bite, harsh, sure, perfect, atmospheric, shoot, story, good, enough, keep, interest, throughout, shoot, appear, quite, pre...  \n",
       "97  [thing, remember, film, use, air, local, ktla, tv, ch, every, christmas, season, mid, late, mainly, due, fact, true, story, take, place, near, christmas, eve, always,...  \n",
       "98  [recently, saw, q, even, though, romantic, comedy, type, gal, think, nice, sweet, movie, watch, many, movie, opinion, lack, honesty, know, feel, watch, movie, feel, r...  \n",
       "99  [lack, content, movie, amaze, first, though, people, go, compare, rock, really, surprise, say, worst, rock, story, horrible, cast, ajay, devgan, jam, salman, khan, as...  \n",
       "\n",
       "[100 rows x 3 columns]"
      ]
     },
     "execution_count": 13,
     "metadata": {},
     "output_type": "execute_result"
    }
   ],
   "source": [
    "se = pd.Series(clean_words)\n",
    "train['clean_words'] = se.values\n",
    "\n",
    "train"
   ]
  },
  {
   "cell_type": "code",
   "execution_count": 14,
   "metadata": {},
   "outputs": [
    {
     "data": {
      "text/plain": [
       "\"this movie only gets a second star because i work downtown and liked seeing it destroyed. the effects were pretty good- i hear it was the most expensive Korean film ever made. being the most expensive and still absolutely horrid makes it a massive waste of money. i rented it so i won't complain too much about what i paid, but it was a couple hours that i'll never get back. plot holes abound. terrible acting all across the board. i do not recommend giving up the time to watch this movie, life is too short. if your friends want to watch this, run away. i can't stress enough how bad this film was.   where the hell did the second dragon come from? why didn't he show up sooner? how did they have rocket launchers on dinosaurs just 500 years ago?\""
      ]
     },
     "execution_count": 14,
     "metadata": {},
     "output_type": "execute_result"
    }
   ],
   "source": [
    "train.Review[0]"
   ]
  },
  {
   "cell_type": "code",
   "execution_count": 15,
   "metadata": {},
   "outputs": [
    {
     "data": {
      "text/plain": [
       "['movie',\n",
       " 'get',\n",
       " 'second',\n",
       " 'star',\n",
       " 'work',\n",
       " 'downtown',\n",
       " 'like',\n",
       " 'see',\n",
       " 'destroy',\n",
       " 'effect',\n",
       " 'pretty',\n",
       " 'good',\n",
       " 'hear',\n",
       " 'expensive',\n",
       " 'korean',\n",
       " 'film',\n",
       " 'ever',\n",
       " 'make',\n",
       " 'expensive',\n",
       " 'still',\n",
       " 'absolutely',\n",
       " 'horrid',\n",
       " 'make',\n",
       " 'massive',\n",
       " 'waste',\n",
       " 'money',\n",
       " 'rent',\n",
       " 'complain',\n",
       " 'much',\n",
       " 'pay',\n",
       " 'couple',\n",
       " 'hour',\n",
       " 'never',\n",
       " 'get',\n",
       " 'back',\n",
       " 'plot',\n",
       " 'hole',\n",
       " 'abound',\n",
       " 'terrible',\n",
       " 'act',\n",
       " 'across',\n",
       " 'board',\n",
       " 'recommend',\n",
       " 'give',\n",
       " 'time',\n",
       " 'watch',\n",
       " 'movie',\n",
       " 'life',\n",
       " 'short',\n",
       " 'friend',\n",
       " 'want',\n",
       " 'watch',\n",
       " 'run',\n",
       " 'away',\n",
       " 'stress',\n",
       " 'enough',\n",
       " 'bad',\n",
       " 'film',\n",
       " 'hell',\n",
       " 'second',\n",
       " 'dragon',\n",
       " 'come',\n",
       " 'show',\n",
       " 'sooner',\n",
       " 'rocket',\n",
       " 'launcher',\n",
       " 'dinosaur',\n",
       " 'year',\n",
       " 'ago']"
      ]
     },
     "execution_count": 15,
     "metadata": {},
     "output_type": "execute_result"
    }
   ],
   "source": [
    "train.clean_words[0]"
   ]
  },
  {
   "cell_type": "code",
   "execution_count": 16,
   "metadata": {},
   "outputs": [],
   "source": [
    "def make_lexicon(token_seqs, min_freq=1):\n",
    "    token_counts = {}\n",
    "    for seq in token_seqs:\n",
    "        for token in seq:\n",
    "            if token in token_counts:\n",
    "                token_counts[token] += 1\n",
    "            else:\n",
    "                token_counts[token] = 1\n",
    "\n",
    "    # Then, assign each word to a numerical index. Filter words that occur less than min_freq times.\n",
    "    lexicon = [token for token, count in token_counts.items() if count >= min_freq]\n",
    "    # Indices start at 1. 0 is reserved for padding, and 1 is reserved for unknown words.\n",
    "    lexicon = {token:idx + 2 for idx,token in enumerate(lexicon)}\n",
    "    lexicon[u'<UNK>'] = 1 # Unknown words are those that occur fewer than min_freq times\n",
    "    lexicon_size = len(lexicon)\n",
    "\n",
    "    print(\"LEXICON SAMPLE ({} total items):\".format(len(lexicon)))\n",
    "    print(dict(list(lexicon.items())[:20]))\n",
    "    \n",
    "    return lexicon"
   ]
  },
  {
   "cell_type": "code",
   "execution_count": 17,
   "metadata": {},
   "outputs": [
    {
     "name": "stdout",
     "output_type": "stream",
     "text": [
      "LEXICON SAMPLE (2095 total items):\n",
      "{'movie': 2, 'get': 3, 'second': 4, 'star': 5, 'work': 6, 'downtown': 7, 'like': 8, 'see': 9, 'destroy': 10, 'effect': 11, 'pretty': 12, 'good': 13, 'hear': 14, 'expensive': 15, 'korean': 16, 'film': 17, 'ever': 18, 'make': 19, 'still': 20, 'absolutely': 21}\n"
     ]
    }
   ],
   "source": [
    "words_lexicon = make_lexicon(train['clean_words'], min_freq=1)"
   ]
  },
  {
   "cell_type": "code",
   "execution_count": 18,
   "metadata": {},
   "outputs": [],
   "source": [
    "def tokens_to_idxs(token_seqs, lexicon):\n",
    "    idx_seqs = [[lexicon[token] if token in lexicon else lexicon['<UNK>'] for token in token_seq] for token_seq in token_seqs]\n",
    "    return idx_seqs\n",
    "\n",
    "train['review_idxs'] = tokens_to_idxs(train['clean_words'], words_lexicon)"
   ]
  },
  {
   "cell_type": "code",
   "execution_count": 19,
   "metadata": {},
   "outputs": [
    {
     "data": {
      "text/html": [
       "<div>\n",
       "<style scoped>\n",
       "    .dataframe tbody tr th:only-of-type {\n",
       "        vertical-align: middle;\n",
       "    }\n",
       "\n",
       "    .dataframe tbody tr th {\n",
       "        vertical-align: top;\n",
       "    }\n",
       "\n",
       "    .dataframe thead th {\n",
       "        text-align: right;\n",
       "    }\n",
       "</style>\n",
       "<table border=\"1\" class=\"dataframe\">\n",
       "  <thead>\n",
       "    <tr style=\"text-align: right;\">\n",
       "      <th></th>\n",
       "      <th>Rating</th>\n",
       "      <th>Review</th>\n",
       "      <th>clean_words</th>\n",
       "      <th>review_idxs</th>\n",
       "    </tr>\n",
       "  </thead>\n",
       "  <tbody>\n",
       "    <tr>\n",
       "      <th>0</th>\n",
       "      <td>2</td>\n",
       "      <td>this movie only gets a second star because i work downtown and liked seeing it destroyed. the effects were pretty good- i hear it was the most expensive Korean film e...</td>\n",
       "      <td>[movie, get, second, star, work, downtown, like, see, destroy, effect, pretty, good, hear, expensive, korean, film, ever, make, expensive, still, absolutely, horrid, ...</td>\n",
       "      <td>[2, 3, 4, 5, 6, 7, 8, 9, 10, 11, 12, 13, 14, 15, 16, 17, 18, 19, 15, 20, 21, 22, 19, 23, 24, 25, 26, 27, 28, 29, 30, 31, 32, 3, 33, 34, 35, 36, 37, 38, 39, 40, 41, 42...</td>\n",
       "    </tr>\n",
       "    <tr>\n",
       "      <th>1</th>\n",
       "      <td>8</td>\n",
       "      <td>As I watched this movie, and I began to see its' characters develop I could feel this would be an excellent picture. When you get that feeling, and the movie indeed f...</td>\n",
       "      <td>[watch, movie, begin, see, character, develop, could, feel, would, excellent, picture, get, feel, movie, indeed, fill, expectation, experience, rare, feel, throughout...</td>\n",
       "      <td>[44, 2, 64, 9, 65, 66, 67, 68, 69, 70, 71, 3, 68, 2, 72, 73, 74, 75, 76, 68, 77, 2, 78, 79, 80, 81, 82, 83, 84, 85, 86, 87, 88, 89, 90, 91, 92, 86, 93, 94, 95, 71, 96...</td>\n",
       "    </tr>\n",
       "    <tr>\n",
       "      <th>2</th>\n",
       "      <td>4</td>\n",
       "      <td>this seemed an odd combination of Withnail and I with A Room with a View.. sometimes it worked, other times it did not. tragedy that they changed the name for the US ...</td>\n",
       "      <td>[seem, odd, combination, withnail, room, view, sometimes, work, time, tragedy, change, name, u, release, though, keep, apidistra, fly, much, better, nothing, title, m...</td>\n",
       "      <td>[101, 102, 103, 104, 105, 106, 107, 6, 43, 108, 109, 110, 111, 112, 113, 114, 115, 116, 28, 117, 118, 119, 120, 121, 38, 122, 123, 122, 124, 125, 17]</td>\n",
       "    </tr>\n",
       "    <tr>\n",
       "      <th>3</th>\n",
       "      <td>9</td>\n",
       "      <td>When I saw the Exterminators of year 3000 at first time, I had no expectations for that movie. Although, it wasn't so bad as I was thought. It's kind of Italian versi...</td>\n",
       "      <td>[saw, exterminator, year, first, time, expectation, movie, although, bad, think, kind, italian, version, roadwarrior, cast, almost, famous, italy, include, venantino,...</td>\n",
       "      <td>[126, 127, 62, 128, 43, 74, 2, 129, 53, 130, 131, 132, 133, 134, 91, 135, 136, 137, 138, 139, 140, 141, 142, 143, 144, 145, 146, 147, 148, 142, 149, 150, 151, 147, 9,...</td>\n",
       "    </tr>\n",
       "    <tr>\n",
       "      <th>4</th>\n",
       "      <td>9</td>\n",
       "      <td>This is a very entertaining flick, considering the budget and its length. The storyline is hardly ever touched on in the movie world so it also brought a sense of nov...</td>\n",
       "      <td>[entertain, flick, consider, budget, length, storyline, hardly, ever, touch, movie, world, also, bring, sense, novelty, act, great, p, z, dom, cinematography, also, w...</td>\n",
       "      <td>[176, 178, 179, 180, 181, 182, 183, 18, 184, 2, 185, 147, 186, 187, 188, 38, 189, 190, 191, 192, 193, 147, 194, 195, 41, 2, 196, 197, 100]</td>\n",
       "    </tr>\n",
       "    <tr>\n",
       "      <th>...</th>\n",
       "      <td>...</td>\n",
       "      <td>...</td>\n",
       "      <td>...</td>\n",
       "      <td>...</td>\n",
       "    </tr>\n",
       "    <tr>\n",
       "      <th>95</th>\n",
       "      <td>2</td>\n",
       "      <td>Oh my. I decided to go out to the cinemas with some friends, wanting to watch one of those mild, feel-good Christmas movies, and I walk out disgusted. The movie faile...</td>\n",
       "      <td>[oh, decide, go, cinema, friend, want, watch, one, mild, feel, good, christmas, movie, walk, disgust, movie, fail, full, stop, paul, giamatti, consider, good, actor, ...</td>\n",
       "      <td>[605, 682, 247, 1266, 47, 48, 44, 302, 2031, 68, 13, 2032, 2, 214, 2033, 2, 742, 368, 697, 2034, 2035, 179, 13, 207, 83, 65, 824, 2036, 224, 2037, 2038, 317, 917, 203...</td>\n",
       "    </tr>\n",
       "    <tr>\n",
       "      <th>96</th>\n",
       "      <td>7</td>\n",
       "      <td>It appears even the director doesn't like this film,but for me I think he's being a bit harsh on himself.  Sure it's not perfect, but there are some atmospheric shots...</td>\n",
       "      <td>[appear, even, director, like, film, think, bite, harsh, sure, perfect, atmospheric, shoot, story, good, enough, keep, interest, throughout, shoot, appear, quite, pre...</td>\n",
       "      <td>[2045, 449, 518, 8, 17, 130, 522, 2046, 336, 680, 2047, 1794, 142, 13, 52, 114, 364, 77, 1794, 2045, 175, 12, 2048, 702, 2049, 194, 8, 153, 17, 1794, 1720, 42, 247, 9...</td>\n",
       "    </tr>\n",
       "    <tr>\n",
       "      <th>97</th>\n",
       "      <td>9</td>\n",
       "      <td>The thing I remember most about this film is that it used to air on local KTLA TV (Ch. 5) during every Christmas season during the mid to late 70s, mainly due to the ...</td>\n",
       "      <td>[thing, remember, film, use, air, local, ktla, tv, ch, every, christmas, season, mid, late, mainly, due, fact, true, story, take, place, near, christmas, eve, always,...</td>\n",
       "      <td>[432, 476, 17, 748, 485, 2054, 2055, 1107, 2056, 710, 2032, 490, 2057, 627, 2058, 2059, 316, 232, 142, 444, 488, 853, 2032, 2060, 317, 522, 2061, 9, 54, 512, 247, 206...</td>\n",
       "    </tr>\n",
       "    <tr>\n",
       "      <th>98</th>\n",
       "      <td>7</td>\n",
       "      <td>I recently saw I.Q. and even though I'm not a romantic comedy type of gal, I think that it was just a nice and sweet movie to watch. So many movies in my opinion lack...</td>\n",
       "      <td>[recently, saw, q, even, though, romantic, comedy, type, gal, think, nice, sweet, movie, watch, many, movie, opinion, lack, honesty, know, feel, watch, movie, feel, r...</td>\n",
       "      <td>[480, 126, 2073, 449, 113, 252, 253, 1506, 2074, 130, 351, 1410, 2, 44, 658, 2, 1530, 892, 2075, 366, 68, 44, 2, 68, 936, 444, 412, 142, 8, 518, 1452, 220, 8, 1240, 1...</td>\n",
       "    </tr>\n",
       "    <tr>\n",
       "      <th>99</th>\n",
       "      <td>1</td>\n",
       "      <td>The Lack of content in this movie amazed me the most. First i though that people was going to compare this to Rock On! but i'm really surprised myself to say that thi...</td>\n",
       "      <td>[lack, content, movie, amaze, first, though, people, go, compare, rock, really, surprise, say, worst, rock, story, horrible, cast, ajay, devgan, jam, salman, khan, as...</td>\n",
       "      <td>[892, 1597, 2, 243, 128, 113, 264, 247, 1948, 1660, 271, 634, 97, 442, 1660, 142, 548, 91, 1009, 1010, 629, 2081, 2082, 2083, 2084, 157, 747, 122, 2085, 2086, 2, 1415...</td>\n",
       "    </tr>\n",
       "  </tbody>\n",
       "</table>\n",
       "<p>100 rows × 4 columns</p>\n",
       "</div>"
      ],
      "text/plain": [
       "    Rating  \\\n",
       "0        2   \n",
       "1        8   \n",
       "2        4   \n",
       "3        9   \n",
       "4        9   \n",
       "..     ...   \n",
       "95       2   \n",
       "96       7   \n",
       "97       9   \n",
       "98       7   \n",
       "99       1   \n",
       "\n",
       "                                                                                                                                                                       Review  \\\n",
       "0   this movie only gets a second star because i work downtown and liked seeing it destroyed. the effects were pretty good- i hear it was the most expensive Korean film e...   \n",
       "1   As I watched this movie, and I began to see its' characters develop I could feel this would be an excellent picture. When you get that feeling, and the movie indeed f...   \n",
       "2   this seemed an odd combination of Withnail and I with A Room with a View.. sometimes it worked, other times it did not. tragedy that they changed the name for the US ...   \n",
       "3   When I saw the Exterminators of year 3000 at first time, I had no expectations for that movie. Although, it wasn't so bad as I was thought. It's kind of Italian versi...   \n",
       "4   This is a very entertaining flick, considering the budget and its length. The storyline is hardly ever touched on in the movie world so it also brought a sense of nov...   \n",
       "..                                                                                                                                                                        ...   \n",
       "95  Oh my. I decided to go out to the cinemas with some friends, wanting to watch one of those mild, feel-good Christmas movies, and I walk out disgusted. The movie faile...   \n",
       "96  It appears even the director doesn't like this film,but for me I think he's being a bit harsh on himself.  Sure it's not perfect, but there are some atmospheric shots...   \n",
       "97  The thing I remember most about this film is that it used to air on local KTLA TV (Ch. 5) during every Christmas season during the mid to late 70s, mainly due to the ...   \n",
       "98  I recently saw I.Q. and even though I'm not a romantic comedy type of gal, I think that it was just a nice and sweet movie to watch. So many movies in my opinion lack...   \n",
       "99  The Lack of content in this movie amazed me the most. First i though that people was going to compare this to Rock On! but i'm really surprised myself to say that thi...   \n",
       "\n",
       "                                                                                                                                                                  clean_words  \\\n",
       "0   [movie, get, second, star, work, downtown, like, see, destroy, effect, pretty, good, hear, expensive, korean, film, ever, make, expensive, still, absolutely, horrid, ...   \n",
       "1   [watch, movie, begin, see, character, develop, could, feel, would, excellent, picture, get, feel, movie, indeed, fill, expectation, experience, rare, feel, throughout...   \n",
       "2   [seem, odd, combination, withnail, room, view, sometimes, work, time, tragedy, change, name, u, release, though, keep, apidistra, fly, much, better, nothing, title, m...   \n",
       "3   [saw, exterminator, year, first, time, expectation, movie, although, bad, think, kind, italian, version, roadwarrior, cast, almost, famous, italy, include, venantino,...   \n",
       "4   [entertain, flick, consider, budget, length, storyline, hardly, ever, touch, movie, world, also, bring, sense, novelty, act, great, p, z, dom, cinematography, also, w...   \n",
       "..                                                                                                                                                                        ...   \n",
       "95  [oh, decide, go, cinema, friend, want, watch, one, mild, feel, good, christmas, movie, walk, disgust, movie, fail, full, stop, paul, giamatti, consider, good, actor, ...   \n",
       "96  [appear, even, director, like, film, think, bite, harsh, sure, perfect, atmospheric, shoot, story, good, enough, keep, interest, throughout, shoot, appear, quite, pre...   \n",
       "97  [thing, remember, film, use, air, local, ktla, tv, ch, every, christmas, season, mid, late, mainly, due, fact, true, story, take, place, near, christmas, eve, always,...   \n",
       "98  [recently, saw, q, even, though, romantic, comedy, type, gal, think, nice, sweet, movie, watch, many, movie, opinion, lack, honesty, know, feel, watch, movie, feel, r...   \n",
       "99  [lack, content, movie, amaze, first, though, people, go, compare, rock, really, surprise, say, worst, rock, story, horrible, cast, ajay, devgan, jam, salman, khan, as...   \n",
       "\n",
       "                                                                                                                                                                  review_idxs  \n",
       "0   [2, 3, 4, 5, 6, 7, 8, 9, 10, 11, 12, 13, 14, 15, 16, 17, 18, 19, 15, 20, 21, 22, 19, 23, 24, 25, 26, 27, 28, 29, 30, 31, 32, 3, 33, 34, 35, 36, 37, 38, 39, 40, 41, 42...  \n",
       "1   [44, 2, 64, 9, 65, 66, 67, 68, 69, 70, 71, 3, 68, 2, 72, 73, 74, 75, 76, 68, 77, 2, 78, 79, 80, 81, 82, 83, 84, 85, 86, 87, 88, 89, 90, 91, 92, 86, 93, 94, 95, 71, 96...  \n",
       "2                       [101, 102, 103, 104, 105, 106, 107, 6, 43, 108, 109, 110, 111, 112, 113, 114, 115, 116, 28, 117, 118, 119, 120, 121, 38, 122, 123, 122, 124, 125, 17]  \n",
       "3   [126, 127, 62, 128, 43, 74, 2, 129, 53, 130, 131, 132, 133, 134, 91, 135, 136, 137, 138, 139, 140, 141, 142, 143, 144, 145, 146, 147, 148, 142, 149, 150, 151, 147, 9,...  \n",
       "4                                  [176, 178, 179, 180, 181, 182, 183, 18, 184, 2, 185, 147, 186, 187, 188, 38, 189, 190, 191, 192, 193, 147, 194, 195, 41, 2, 196, 197, 100]  \n",
       "..                                                                                                                                                                        ...  \n",
       "95  [605, 682, 247, 1266, 47, 48, 44, 302, 2031, 68, 13, 2032, 2, 214, 2033, 2, 742, 368, 697, 2034, 2035, 179, 13, 207, 83, 65, 824, 2036, 224, 2037, 2038, 317, 917, 203...  \n",
       "96  [2045, 449, 518, 8, 17, 130, 522, 2046, 336, 680, 2047, 1794, 142, 13, 52, 114, 364, 77, 1794, 2045, 175, 12, 2048, 702, 2049, 194, 8, 153, 17, 1794, 1720, 42, 247, 9...  \n",
       "97  [432, 476, 17, 748, 485, 2054, 2055, 1107, 2056, 710, 2032, 490, 2057, 627, 2058, 2059, 316, 232, 142, 444, 488, 853, 2032, 2060, 317, 522, 2061, 9, 54, 512, 247, 206...  \n",
       "98  [480, 126, 2073, 449, 113, 252, 253, 1506, 2074, 130, 351, 1410, 2, 44, 658, 2, 1530, 892, 2075, 366, 68, 44, 2, 68, 936, 444, 412, 142, 8, 518, 1452, 220, 8, 1240, 1...  \n",
       "99  [892, 1597, 2, 243, 128, 113, 264, 247, 1948, 1660, 271, 634, 97, 442, 1660, 142, 548, 91, 1009, 1010, 629, 2081, 2082, 2083, 2084, 157, 747, 122, 2085, 2086, 2, 1415...  \n",
       "\n",
       "[100 rows x 4 columns]"
      ]
     },
     "execution_count": 19,
     "metadata": {},
     "output_type": "execute_result"
    }
   ],
   "source": [
    "train"
   ]
  },
  {
   "cell_type": "code",
   "execution_count": 20,
   "metadata": {},
   "outputs": [],
   "source": [
    "def idx_seqs_to_bows(idx_seqs, matrix_length):\n",
    "    bow_seqs = np.array([np.bincount(np.array(idx_seq), minlength=matrix_length) for idx_seq in idx_seqs])\n",
    "    return bow_seqs"
   ]
  },
  {
   "cell_type": "code",
   "execution_count": 21,
   "metadata": {},
   "outputs": [
    {
     "data": {
      "text/plain": [
       "array([[0, 0, 2, ..., 0, 0, 0],\n",
       "       [0, 0, 4, ..., 0, 0, 0],\n",
       "       [0, 0, 0, ..., 0, 0, 0],\n",
       "       ...,\n",
       "       [0, 0, 0, ..., 0, 0, 0],\n",
       "       [0, 0, 3, ..., 0, 0, 0],\n",
       "       [0, 0, 3, ..., 1, 1, 1]], dtype=int64)"
      ]
     },
     "execution_count": 21,
     "metadata": {},
     "output_type": "execute_result"
    }
   ],
   "source": [
    "bow_train_words = idx_seqs_to_bows(train['review_idxs'], matrix_length=len(words_lexicon) + 1)\n",
    "bow_train_words"
   ]
  },
  {
   "cell_type": "code",
   "execution_count": 22,
   "metadata": {},
   "outputs": [
    {
     "data": {
      "text/plain": [
       "(100, 2096)"
      ]
     },
     "execution_count": 22,
     "metadata": {},
     "output_type": "execute_result"
    }
   ],
   "source": [
    "bow_train_words.shape"
   ]
  },
  {
   "cell_type": "code",
   "execution_count": 23,
   "metadata": {},
   "outputs": [],
   "source": [
    "from tensorflow.keras.models import Model\n",
    "from tensorflow.keras.layers import Input, Dense\n",
    "\n",
    "def create_model_FFNN(n_input_nodes, n_hidden_nodes):\n",
    "    input_layer = Input(shape=(n_input_nodes,))\n",
    "    hidden_layer = Dense(units=n_hidden_nodes, activation='sigmoid')(input_layer)\n",
    "    output_layer = Dense(units=1)(hidden_layer)\n",
    "    \n",
    "    #Specify which layers are input and output, compile model with loss and optimization functions\n",
    "    model = Model(inputs=[input_layer], outputs=output_layer)\n",
    "    model.compile(loss=\"mean_squared_error\", optimizer='adam')\n",
    "    \n",
    "    return model\n",
    "\n",
    "reg_bow_model = create_model_FFNN(n_input_nodes=len(words_lexicon) + 1, n_hidden_nodes=500)"
   ]
  },
  {
   "cell_type": "code",
   "execution_count": 24,
   "metadata": {},
   "outputs": [
    {
     "name": "stdout",
     "output_type": "stream",
     "text": [
      "Epoch 1/5\n",
      "5/5 [==============================] - 1s 7ms/step - loss: 43.4301\n",
      "Epoch 2/5\n",
      "5/5 [==============================] - 0s 8ms/step - loss: 24.5053\n",
      "Epoch 3/5\n",
      "5/5 [==============================] - 0s 9ms/step - loss: 11.6477\n",
      "Epoch 4/5\n",
      "5/5 [==============================] - 0s 10ms/step - loss: 9.6052\n",
      "Epoch 5/5\n",
      "5/5 [==============================] - 0s 8ms/step - loss: 8.8134\n"
     ]
    },
    {
     "data": {
      "text/plain": [
       "<tensorflow.python.keras.callbacks.History at 0x1a06e75b7f0>"
      ]
     },
     "execution_count": 24,
     "metadata": {},
     "output_type": "execute_result"
    }
   ],
   "source": [
    "reg_bow_model.fit(x=bow_train_words, y=train['Rating'], batch_size=20, epochs=5)"
   ]
  },
  {
   "cell_type": "code",
   "execution_count": 25,
   "metadata": {},
   "outputs": [],
   "source": [
    "# Prepare Test Data"
   ]
  },
  {
   "cell_type": "code",
   "execution_count": 26,
   "metadata": {},
   "outputs": [
    {
     "data": {
      "text/html": [
       "<div>\n",
       "<style scoped>\n",
       "    .dataframe tbody tr th:only-of-type {\n",
       "        vertical-align: middle;\n",
       "    }\n",
       "\n",
       "    .dataframe tbody tr th {\n",
       "        vertical-align: top;\n",
       "    }\n",
       "\n",
       "    .dataframe thead th {\n",
       "        text-align: right;\n",
       "    }\n",
       "</style>\n",
       "<table border=\"1\" class=\"dataframe\">\n",
       "  <thead>\n",
       "    <tr style=\"text-align: right;\">\n",
       "      <th></th>\n",
       "      <th>Rating</th>\n",
       "      <th>Review</th>\n",
       "    </tr>\n",
       "  </thead>\n",
       "  <tbody>\n",
       "    <tr>\n",
       "      <th>0</th>\n",
       "      <td>10</td>\n",
       "      <td>First of all i'd like to say that this movie is the greatest thing that ever happened to mankind. It is the best out of all the excellent Muppet movies, and every oth...</td>\n",
       "    </tr>\n",
       "    <tr>\n",
       "      <th>1</th>\n",
       "      <td>1</td>\n",
       "      <td>Terrible writing, highly contrived, from a \"do-gooder\" who knows absolutely nothing about race relations in L.A., or the USA in the present day. The gushing positive ...</td>\n",
       "    </tr>\n",
       "    <tr>\n",
       "      <th>2</th>\n",
       "      <td>4</td>\n",
       "      <td>I didn't expect too much from this movie, but I was still disappointed. It's supposed to be a comedy, but there are only four or five scenes where I actually laughed,...</td>\n",
       "    </tr>\n",
       "    <tr>\n",
       "      <th>3</th>\n",
       "      <td>2</td>\n",
       "      <td>Corey Haim is never going to be known as one of the great actors of his time, but at least in movies like \"Licensed To Drive\", he was more in his element... lowbrow h...</td>\n",
       "    </tr>\n",
       "    <tr>\n",
       "      <th>4</th>\n",
       "      <td>3</td>\n",
       "      <td>Being a great fan of Disney, i was really disappointed when i watched this garbage.The animation was pretty,and the backgrounds were amazing,but i believe that good a...</td>\n",
       "    </tr>\n",
       "    <tr>\n",
       "      <th>...</th>\n",
       "      <td>...</td>\n",
       "      <td>...</td>\n",
       "    </tr>\n",
       "    <tr>\n",
       "      <th>95</th>\n",
       "      <td>3</td>\n",
       "      <td>I recently picked up all three Robocop films in one box set, rather cheaply and the only reason I did this was for the special edition of the superb first one. I have...</td>\n",
       "    </tr>\n",
       "    <tr>\n",
       "      <th>96</th>\n",
       "      <td>8</td>\n",
       "      <td>This film as it is now is far shorter than it was when released in 1918. In fact, it is now more available with two other medium sized silent Chaplin features (A DOG'...</td>\n",
       "    </tr>\n",
       "    <tr>\n",
       "      <th>97</th>\n",
       "      <td>3</td>\n",
       "      <td>The MTV sci-fi animated series \"Æon Flux\" is brought to life with Charlize Theron playing the title character, a freedom fighter who fights oppression in the walled c...</td>\n",
       "    </tr>\n",
       "    <tr>\n",
       "      <th>98</th>\n",
       "      <td>4</td>\n",
       "      <td>I thought the movie was sub-par. The acting was good but not great, the story was funny but did not come out that way. The director dropped the ball on this movie. It...</td>\n",
       "    </tr>\n",
       "    <tr>\n",
       "      <th>99</th>\n",
       "      <td>4</td>\n",
       "      <td>A cut above from the usual straight to video actioneer, Airborne has enough in the tank to keep it going for the full 90 minutes, although you can't help but think of...</td>\n",
       "    </tr>\n",
       "  </tbody>\n",
       "</table>\n",
       "<p>100 rows × 2 columns</p>\n",
       "</div>"
      ],
      "text/plain": [
       "    Rating  \\\n",
       "0       10   \n",
       "1        1   \n",
       "2        4   \n",
       "3        2   \n",
       "4        3   \n",
       "..     ...   \n",
       "95       3   \n",
       "96       8   \n",
       "97       3   \n",
       "98       4   \n",
       "99       4   \n",
       "\n",
       "                                                                                                                                                                       Review  \n",
       "0   First of all i'd like to say that this movie is the greatest thing that ever happened to mankind. It is the best out of all the excellent Muppet movies, and every oth...  \n",
       "1   Terrible writing, highly contrived, from a \"do-gooder\" who knows absolutely nothing about race relations in L.A., or the USA in the present day. The gushing positive ...  \n",
       "2   I didn't expect too much from this movie, but I was still disappointed. It's supposed to be a comedy, but there are only four or five scenes where I actually laughed,...  \n",
       "3   Corey Haim is never going to be known as one of the great actors of his time, but at least in movies like \"Licensed To Drive\", he was more in his element... lowbrow h...  \n",
       "4   Being a great fan of Disney, i was really disappointed when i watched this garbage.The animation was pretty,and the backgrounds were amazing,but i believe that good a...  \n",
       "..                                                                                                                                                                        ...  \n",
       "95  I recently picked up all three Robocop films in one box set, rather cheaply and the only reason I did this was for the special edition of the superb first one. I have...  \n",
       "96  This film as it is now is far shorter than it was when released in 1918. In fact, it is now more available with two other medium sized silent Chaplin features (A DOG'...  \n",
       "97  The MTV sci-fi animated series \"Æon Flux\" is brought to life with Charlize Theron playing the title character, a freedom fighter who fights oppression in the walled c...  \n",
       "98  I thought the movie was sub-par. The acting was good but not great, the story was funny but did not come out that way. The director dropped the ball on this movie. It...  \n",
       "99  A cut above from the usual straight to video actioneer, Airborne has enough in the tank to keep it going for the full 90 minutes, although you can't help but think of...  \n",
       "\n",
       "[100 rows x 2 columns]"
      ]
     },
     "execution_count": 26,
     "metadata": {},
     "output_type": "execute_result"
    }
   ],
   "source": [
    "test"
   ]
  },
  {
   "cell_type": "code",
   "execution_count": 27,
   "metadata": {},
   "outputs": [],
   "source": [
    "clean_words = []\n",
    "for i in range(len(test['Review'])):\n",
    "    res = clean_text(test['Review'][i])\n",
    "    res_len = len(res)\n",
    "    clean_words.append(res)"
   ]
  },
  {
   "cell_type": "code",
   "execution_count": 28,
   "metadata": {},
   "outputs": [
    {
     "data": {
      "text/html": [
       "<div>\n",
       "<style scoped>\n",
       "    .dataframe tbody tr th:only-of-type {\n",
       "        vertical-align: middle;\n",
       "    }\n",
       "\n",
       "    .dataframe tbody tr th {\n",
       "        vertical-align: top;\n",
       "    }\n",
       "\n",
       "    .dataframe thead th {\n",
       "        text-align: right;\n",
       "    }\n",
       "</style>\n",
       "<table border=\"1\" class=\"dataframe\">\n",
       "  <thead>\n",
       "    <tr style=\"text-align: right;\">\n",
       "      <th></th>\n",
       "      <th>Rating</th>\n",
       "      <th>Review</th>\n",
       "      <th>clean_words</th>\n",
       "    </tr>\n",
       "  </thead>\n",
       "  <tbody>\n",
       "    <tr>\n",
       "      <th>0</th>\n",
       "      <td>10</td>\n",
       "      <td>First of all i'd like to say that this movie is the greatest thing that ever happened to mankind. It is the best out of all the excellent Muppet movies, and every oth...</td>\n",
       "      <td>[first, like, say, movie, greatest, thing, ever, happen, mankind, best, excellent, muppet, movie, every, movie, boo, ya, jim, henson, movie, first, muppet, movie, bes...</td>\n",
       "    </tr>\n",
       "    <tr>\n",
       "      <th>1</th>\n",
       "      <td>1</td>\n",
       "      <td>Terrible writing, highly contrived, from a \"do-gooder\" who knows absolutely nothing about race relations in L.A., or the USA in the present day. The gushing positive ...</td>\n",
       "      <td>[terrible, write, highly, contrive, gooder, know, absolutely, nothing, race, relation, l, usa, present, day, gush, positive, review, mystery, could, provide, folk, th...</td>\n",
       "    </tr>\n",
       "    <tr>\n",
       "      <th>2</th>\n",
       "      <td>4</td>\n",
       "      <td>I didn't expect too much from this movie, but I was still disappointed. It's supposed to be a comedy, but there are only four or five scenes where I actually laughed,...</td>\n",
       "      <td>[expect, much, movie, still, disappoint, suppose, comedy, four, five, scene, actually, laugh, think, rather, poor, real, plot, either, always, feel, scene, could, put...</td>\n",
       "    </tr>\n",
       "    <tr>\n",
       "      <th>3</th>\n",
       "      <td>2</td>\n",
       "      <td>Corey Haim is never going to be known as one of the great actors of his time, but at least in movies like \"Licensed To Drive\", he was more in his element... lowbrow h...</td>\n",
       "      <td>[corey, haim, never, go, know, one, great, actor, time, least, movie, like, license, drive, element, lowbrow, humor, dean, koontz, book, watcher, one, earlier, work, ...</td>\n",
       "    </tr>\n",
       "    <tr>\n",
       "      <th>4</th>\n",
       "      <td>3</td>\n",
       "      <td>Being a great fan of Disney, i was really disappointed when i watched this garbage.The animation was pretty,and the backgrounds were amazing,but i believe that good a...</td>\n",
       "      <td>[great, fan, disney, really, disappoint, watch, garbage, animation, pretty, background, amaze, believe, good, animation, make, weak, script, weak, story, gonna, disag...</td>\n",
       "    </tr>\n",
       "    <tr>\n",
       "      <th>...</th>\n",
       "      <td>...</td>\n",
       "      <td>...</td>\n",
       "      <td>...</td>\n",
       "    </tr>\n",
       "    <tr>\n",
       "      <th>95</th>\n",
       "      <td>3</td>\n",
       "      <td>I recently picked up all three Robocop films in one box set, rather cheaply and the only reason I did this was for the special edition of the superb first one. I have...</td>\n",
       "      <td>[recently, pick, three, robocop, film, one, box, set, rather, cheaply, reason, special, edition, superb, first, one, see, robocop, year, year, come, never, watch, sin...</td>\n",
       "    </tr>\n",
       "    <tr>\n",
       "      <th>96</th>\n",
       "      <td>8</td>\n",
       "      <td>This film as it is now is far shorter than it was when released in 1918. In fact, it is now more available with two other medium sized silent Chaplin features (A DOG'...</td>\n",
       "      <td>[film, far, shorter, release, fact, available, two, medium, size, silent, chaplin, feature, dog, life, pilgrim, chaplin, release, day, shoulder, arm, big, hit, humor,...</td>\n",
       "    </tr>\n",
       "    <tr>\n",
       "      <th>97</th>\n",
       "      <td>3</td>\n",
       "      <td>The MTV sci-fi animated series \"Æon Flux\" is brought to life with Charlize Theron playing the title character, a freedom fighter who fights oppression in the walled c...</td>\n",
       "      <td>[mtv, sci, fi, animate, series, flux, bring, life, charlize, theron, play, title, character, freedom, fighter, fight, oppression, wall, city, bregna, hundred, year, f...</td>\n",
       "    </tr>\n",
       "    <tr>\n",
       "      <th>98</th>\n",
       "      <td>4</td>\n",
       "      <td>I thought the movie was sub-par. The acting was good but not great, the story was funny but did not come out that way. The director dropped the ball on this movie. It...</td>\n",
       "      <td>[think, movie, sub, par, act, good, great, story, funny, come, way, director, drop, ball, movie, jam, jim, tea, imho, music, kill, scene, thing, go, hill, jonny, cash...</td>\n",
       "    </tr>\n",
       "    <tr>\n",
       "      <th>99</th>\n",
       "      <td>4</td>\n",
       "      <td>A cut above from the usual straight to video actioneer, Airborne has enough in the tank to keep it going for the full 90 minutes, although you can't help but think of...</td>\n",
       "      <td>[cut, usual, straight, video, actioneer, airborne, enough, tank, keep, go, full, minute, although, help, think, low, former, comedy, golden, boy, steve, guttenburg, s...</td>\n",
       "    </tr>\n",
       "  </tbody>\n",
       "</table>\n",
       "<p>100 rows × 3 columns</p>\n",
       "</div>"
      ],
      "text/plain": [
       "    Rating  \\\n",
       "0       10   \n",
       "1        1   \n",
       "2        4   \n",
       "3        2   \n",
       "4        3   \n",
       "..     ...   \n",
       "95       3   \n",
       "96       8   \n",
       "97       3   \n",
       "98       4   \n",
       "99       4   \n",
       "\n",
       "                                                                                                                                                                       Review  \\\n",
       "0   First of all i'd like to say that this movie is the greatest thing that ever happened to mankind. It is the best out of all the excellent Muppet movies, and every oth...   \n",
       "1   Terrible writing, highly contrived, from a \"do-gooder\" who knows absolutely nothing about race relations in L.A., or the USA in the present day. The gushing positive ...   \n",
       "2   I didn't expect too much from this movie, but I was still disappointed. It's supposed to be a comedy, but there are only four or five scenes where I actually laughed,...   \n",
       "3   Corey Haim is never going to be known as one of the great actors of his time, but at least in movies like \"Licensed To Drive\", he was more in his element... lowbrow h...   \n",
       "4   Being a great fan of Disney, i was really disappointed when i watched this garbage.The animation was pretty,and the backgrounds were amazing,but i believe that good a...   \n",
       "..                                                                                                                                                                        ...   \n",
       "95  I recently picked up all three Robocop films in one box set, rather cheaply and the only reason I did this was for the special edition of the superb first one. I have...   \n",
       "96  This film as it is now is far shorter than it was when released in 1918. In fact, it is now more available with two other medium sized silent Chaplin features (A DOG'...   \n",
       "97  The MTV sci-fi animated series \"Æon Flux\" is brought to life with Charlize Theron playing the title character, a freedom fighter who fights oppression in the walled c...   \n",
       "98  I thought the movie was sub-par. The acting was good but not great, the story was funny but did not come out that way. The director dropped the ball on this movie. It...   \n",
       "99  A cut above from the usual straight to video actioneer, Airborne has enough in the tank to keep it going for the full 90 minutes, although you can't help but think of...   \n",
       "\n",
       "                                                                                                                                                                  clean_words  \n",
       "0   [first, like, say, movie, greatest, thing, ever, happen, mankind, best, excellent, muppet, movie, every, movie, boo, ya, jim, henson, movie, first, muppet, movie, bes...  \n",
       "1   [terrible, write, highly, contrive, gooder, know, absolutely, nothing, race, relation, l, usa, present, day, gush, positive, review, mystery, could, provide, folk, th...  \n",
       "2   [expect, much, movie, still, disappoint, suppose, comedy, four, five, scene, actually, laugh, think, rather, poor, real, plot, either, always, feel, scene, could, put...  \n",
       "3   [corey, haim, never, go, know, one, great, actor, time, least, movie, like, license, drive, element, lowbrow, humor, dean, koontz, book, watcher, one, earlier, work, ...  \n",
       "4   [great, fan, disney, really, disappoint, watch, garbage, animation, pretty, background, amaze, believe, good, animation, make, weak, script, weak, story, gonna, disag...  \n",
       "..                                                                                                                                                                        ...  \n",
       "95  [recently, pick, three, robocop, film, one, box, set, rather, cheaply, reason, special, edition, superb, first, one, see, robocop, year, year, come, never, watch, sin...  \n",
       "96  [film, far, shorter, release, fact, available, two, medium, size, silent, chaplin, feature, dog, life, pilgrim, chaplin, release, day, shoulder, arm, big, hit, humor,...  \n",
       "97  [mtv, sci, fi, animate, series, flux, bring, life, charlize, theron, play, title, character, freedom, fighter, fight, oppression, wall, city, bregna, hundred, year, f...  \n",
       "98  [think, movie, sub, par, act, good, great, story, funny, come, way, director, drop, ball, movie, jam, jim, tea, imho, music, kill, scene, thing, go, hill, jonny, cash...  \n",
       "99  [cut, usual, straight, video, actioneer, airborne, enough, tank, keep, go, full, minute, although, help, think, low, former, comedy, golden, boy, steve, guttenburg, s...  \n",
       "\n",
       "[100 rows x 3 columns]"
      ]
     },
     "execution_count": 28,
     "metadata": {},
     "output_type": "execute_result"
    }
   ],
   "source": [
    "se = pd.Series(clean_words)\n",
    "test['clean_words'] = se.values\n",
    "\n",
    "test"
   ]
  },
  {
   "cell_type": "code",
   "execution_count": 29,
   "metadata": {},
   "outputs": [],
   "source": [
    "test['review_idxs'] = tokens_to_idxs(test['clean_words'], words_lexicon)"
   ]
  },
  {
   "cell_type": "code",
   "execution_count": 30,
   "metadata": {},
   "outputs": [
    {
     "data": {
      "text/html": [
       "<div>\n",
       "<style scoped>\n",
       "    .dataframe tbody tr th:only-of-type {\n",
       "        vertical-align: middle;\n",
       "    }\n",
       "\n",
       "    .dataframe tbody tr th {\n",
       "        vertical-align: top;\n",
       "    }\n",
       "\n",
       "    .dataframe thead th {\n",
       "        text-align: right;\n",
       "    }\n",
       "</style>\n",
       "<table border=\"1\" class=\"dataframe\">\n",
       "  <thead>\n",
       "    <tr style=\"text-align: right;\">\n",
       "      <th></th>\n",
       "      <th>Rating</th>\n",
       "      <th>Review</th>\n",
       "      <th>clean_words</th>\n",
       "      <th>review_idxs</th>\n",
       "    </tr>\n",
       "  </thead>\n",
       "  <tbody>\n",
       "    <tr>\n",
       "      <th>0</th>\n",
       "      <td>10</td>\n",
       "      <td>First of all i'd like to say that this movie is the greatest thing that ever happened to mankind. It is the best out of all the excellent Muppet movies, and every oth...</td>\n",
       "      <td>[first, like, say, movie, greatest, thing, ever, happen, mankind, best, excellent, muppet, movie, every, movie, boo, ya, jim, henson, movie, first, muppet, movie, bes...</td>\n",
       "      <td>[128, 8, 97, 2, 1, 432, 18, 410, 1, 275, 70, 1, 2, 710, 2, 1, 1, 1, 1, 2, 128, 1, 2, 275, 1, 1, 1, 1, 425, 19, 303, 224, 246, 47, 1302, 225, 56, 30, 1, 471, 18, 19, 1...</td>\n",
       "    </tr>\n",
       "    <tr>\n",
       "      <th>1</th>\n",
       "      <td>1</td>\n",
       "      <td>Terrible writing, highly contrived, from a \"do-gooder\" who knows absolutely nothing about race relations in L.A., or the USA in the present day. The gushing positive ...</td>\n",
       "      <td>[terrible, write, highly, contrive, gooder, know, absolutely, nothing, race, relation, l, usa, present, day, gush, positive, review, mystery, could, provide, folk, th...</td>\n",
       "      <td>[37, 300, 231, 1, 1, 366, 21, 118, 358, 359, 1, 1, 802, 670, 1, 970, 864, 525, 67, 1880, 1, 130, 254, 13, 1, 1, 1, 1875, 1, 590, 1, 1172, 48, 9, 17, 357, 1, 1, 670, 1...</td>\n",
       "    </tr>\n",
       "    <tr>\n",
       "      <th>2</th>\n",
       "      <td>4</td>\n",
       "      <td>I didn't expect too much from this movie, but I was still disappointed. It's supposed to be a comedy, but there are only four or five scenes where I actually laughed,...</td>\n",
       "      <td>[expect, much, movie, still, disappoint, suppose, comedy, four, five, scene, actually, laugh, think, rather, poor, real, plot, either, always, feel, scene, could, put...</td>\n",
       "      <td>[975, 28, 2, 20, 100, 1466, 253, 1, 564, 321, 265, 346, 130, 263, 451, 261, 34, 1, 317, 68, 321, 67, 486, 1, 2, 1, 442, 432, 38, 1, 1, 302, 1, 1, 241, 2, 1466, 83, 47...</td>\n",
       "    </tr>\n",
       "    <tr>\n",
       "      <th>3</th>\n",
       "      <td>2</td>\n",
       "      <td>Corey Haim is never going to be known as one of the great actors of his time, but at least in movies like \"Licensed To Drive\", he was more in his element... lowbrow h...</td>\n",
       "      <td>[corey, haim, never, go, know, one, great, actor, time, least, movie, like, license, drive, element, lowbrow, humor, dean, koontz, book, watcher, one, earlier, work, ...</td>\n",
       "      <td>[1, 1, 32, 247, 366, 302, 189, 207, 43, 489, 2, 8, 1, 1, 1, 1, 593, 1, 1, 1889, 1, 302, 1978, 6, 20, 996, 1, 1, 1980, 1, 1262, 788, 1, 1, 1, 1, 1, 247, 865, 1, 2036, ...</td>\n",
       "    </tr>\n",
       "    <tr>\n",
       "      <th>4</th>\n",
       "      <td>3</td>\n",
       "      <td>Being a great fan of Disney, i was really disappointed when i watched this garbage.The animation was pretty,and the backgrounds were amazing,but i believe that good a...</td>\n",
       "      <td>[great, fan, disney, really, disappoint, watch, garbage, animation, pretty, background, amaze, believe, good, animation, make, weak, script, weak, story, gonna, disag...</td>\n",
       "      <td>[189, 1672, 1412, 271, 100, 44, 1, 1543, 12, 1, 243, 443, 13, 1543, 19, 312, 123, 312, 142, 1, 1698, 264, 97, 1, 886, 1091, 1, 2, 1, 412, 886, 489, 1, 1, 123, 1, 53, ...</td>\n",
       "    </tr>\n",
       "    <tr>\n",
       "      <th>...</th>\n",
       "      <td>...</td>\n",
       "      <td>...</td>\n",
       "      <td>...</td>\n",
       "      <td>...</td>\n",
       "    </tr>\n",
       "    <tr>\n",
       "      <th>95</th>\n",
       "      <td>3</td>\n",
       "      <td>I recently picked up all three Robocop films in one box set, rather cheaply and the only reason I did this was for the special edition of the superb first one. I have...</td>\n",
       "      <td>[recently, pick, three, robocop, film, one, box, set, rather, cheaply, reason, special, edition, superb, first, one, see, robocop, year, year, come, never, watch, sin...</td>\n",
       "      <td>[480, 1, 217, 1, 17, 302, 1, 424, 263, 1, 1185, 1201, 1, 1, 128, 302, 9, 1, 62, 62, 56, 32, 44, 228, 20, 476, 100, 1604, 1, 271, 1, 843, 271, 1, 722, 1856, 658, 1044,...</td>\n",
       "    </tr>\n",
       "    <tr>\n",
       "      <th>96</th>\n",
       "      <td>8</td>\n",
       "      <td>This film as it is now is far shorter than it was when released in 1918. In fact, it is now more available with two other medium sized silent Chaplin features (A DOG'...</td>\n",
       "      <td>[film, far, shorter, release, fact, available, two, medium, size, silent, chaplin, feature, dog, life, pilgrim, chaplin, release, day, shoulder, arm, big, hit, humor,...</td>\n",
       "      <td>[17, 1001, 1, 112, 316, 1487, 423, 1, 1, 1, 1, 1241, 1, 45, 1, 1, 112, 670, 1, 1862, 1016, 502, 593, 1, 1, 20, 272, 1, 1, 1, 1253, 1, 1189, 1, 915, 424, 1295, 1813, 3...</td>\n",
       "    </tr>\n",
       "    <tr>\n",
       "      <th>97</th>\n",
       "      <td>3</td>\n",
       "      <td>The MTV sci-fi animated series \"Æon Flux\" is brought to life with Charlize Theron playing the title character, a freedom fighter who fights oppression in the walled c...</td>\n",
       "      <td>[mtv, sci, fi, animate, series, flux, bring, life, charlize, theron, play, title, character, freedom, fighter, fight, oppression, wall, city, bregna, hundred, year, f...</td>\n",
       "      <td>[1, 1952, 1953, 1, 372, 1, 186, 45, 1, 1, 83, 119, 65, 916, 1, 1, 1, 1, 164, 1, 1, 62, 684, 2051, 1509, 1367, 660, 164, 1, 1, 1, 1, 1, 1, 705, 224, 225, 1, 1, 462, 1,...</td>\n",
       "    </tr>\n",
       "    <tr>\n",
       "      <th>98</th>\n",
       "      <td>4</td>\n",
       "      <td>I thought the movie was sub-par. The acting was good but not great, the story was funny but did not come out that way. The director dropped the ball on this movie. It...</td>\n",
       "      <td>[think, movie, sub, par, act, good, great, story, funny, come, way, director, drop, ball, movie, jam, jim, tea, imho, music, kill, scene, thing, go, hill, jonny, cash...</td>\n",
       "      <td>[130, 2, 1044, 1045, 38, 13, 189, 142, 272, 56, 225, 518, 1, 1, 2, 629, 1, 1155, 1, 747, 660, 321, 432, 247, 1753, 1, 1, 747, 83, 199, 1, 272, 660, 1330, 2, 67, 1, 1,...</td>\n",
       "    </tr>\n",
       "    <tr>\n",
       "      <th>99</th>\n",
       "      <td>4</td>\n",
       "      <td>A cut above from the usual straight to video actioneer, Airborne has enough in the tank to keep it going for the full 90 minutes, although you can't help but think of...</td>\n",
       "      <td>[cut, usual, straight, video, actioneer, airborne, enough, tank, keep, go, full, minute, although, help, think, low, former, comedy, golden, boy, steve, guttenburg, s...</td>\n",
       "      <td>[504, 1094, 1649, 205, 1, 1, 52, 1, 114, 247, 368, 565, 129, 1133, 130, 550, 1, 253, 1776, 1767, 1, 1, 1, 1, 1856, 83, 409, 199, 34, 764, 1, 1828, 1, 1, 1, 1415, 1, 1...</td>\n",
       "    </tr>\n",
       "  </tbody>\n",
       "</table>\n",
       "<p>100 rows × 4 columns</p>\n",
       "</div>"
      ],
      "text/plain": [
       "    Rating  \\\n",
       "0       10   \n",
       "1        1   \n",
       "2        4   \n",
       "3        2   \n",
       "4        3   \n",
       "..     ...   \n",
       "95       3   \n",
       "96       8   \n",
       "97       3   \n",
       "98       4   \n",
       "99       4   \n",
       "\n",
       "                                                                                                                                                                       Review  \\\n",
       "0   First of all i'd like to say that this movie is the greatest thing that ever happened to mankind. It is the best out of all the excellent Muppet movies, and every oth...   \n",
       "1   Terrible writing, highly contrived, from a \"do-gooder\" who knows absolutely nothing about race relations in L.A., or the USA in the present day. The gushing positive ...   \n",
       "2   I didn't expect too much from this movie, but I was still disappointed. It's supposed to be a comedy, but there are only four or five scenes where I actually laughed,...   \n",
       "3   Corey Haim is never going to be known as one of the great actors of his time, but at least in movies like \"Licensed To Drive\", he was more in his element... lowbrow h...   \n",
       "4   Being a great fan of Disney, i was really disappointed when i watched this garbage.The animation was pretty,and the backgrounds were amazing,but i believe that good a...   \n",
       "..                                                                                                                                                                        ...   \n",
       "95  I recently picked up all three Robocop films in one box set, rather cheaply and the only reason I did this was for the special edition of the superb first one. I have...   \n",
       "96  This film as it is now is far shorter than it was when released in 1918. In fact, it is now more available with two other medium sized silent Chaplin features (A DOG'...   \n",
       "97  The MTV sci-fi animated series \"Æon Flux\" is brought to life with Charlize Theron playing the title character, a freedom fighter who fights oppression in the walled c...   \n",
       "98  I thought the movie was sub-par. The acting was good but not great, the story was funny but did not come out that way. The director dropped the ball on this movie. It...   \n",
       "99  A cut above from the usual straight to video actioneer, Airborne has enough in the tank to keep it going for the full 90 minutes, although you can't help but think of...   \n",
       "\n",
       "                                                                                                                                                                  clean_words  \\\n",
       "0   [first, like, say, movie, greatest, thing, ever, happen, mankind, best, excellent, muppet, movie, every, movie, boo, ya, jim, henson, movie, first, muppet, movie, bes...   \n",
       "1   [terrible, write, highly, contrive, gooder, know, absolutely, nothing, race, relation, l, usa, present, day, gush, positive, review, mystery, could, provide, folk, th...   \n",
       "2   [expect, much, movie, still, disappoint, suppose, comedy, four, five, scene, actually, laugh, think, rather, poor, real, plot, either, always, feel, scene, could, put...   \n",
       "3   [corey, haim, never, go, know, one, great, actor, time, least, movie, like, license, drive, element, lowbrow, humor, dean, koontz, book, watcher, one, earlier, work, ...   \n",
       "4   [great, fan, disney, really, disappoint, watch, garbage, animation, pretty, background, amaze, believe, good, animation, make, weak, script, weak, story, gonna, disag...   \n",
       "..                                                                                                                                                                        ...   \n",
       "95  [recently, pick, three, robocop, film, one, box, set, rather, cheaply, reason, special, edition, superb, first, one, see, robocop, year, year, come, never, watch, sin...   \n",
       "96  [film, far, shorter, release, fact, available, two, medium, size, silent, chaplin, feature, dog, life, pilgrim, chaplin, release, day, shoulder, arm, big, hit, humor,...   \n",
       "97  [mtv, sci, fi, animate, series, flux, bring, life, charlize, theron, play, title, character, freedom, fighter, fight, oppression, wall, city, bregna, hundred, year, f...   \n",
       "98  [think, movie, sub, par, act, good, great, story, funny, come, way, director, drop, ball, movie, jam, jim, tea, imho, music, kill, scene, thing, go, hill, jonny, cash...   \n",
       "99  [cut, usual, straight, video, actioneer, airborne, enough, tank, keep, go, full, minute, although, help, think, low, former, comedy, golden, boy, steve, guttenburg, s...   \n",
       "\n",
       "                                                                                                                                                                  review_idxs  \n",
       "0   [128, 8, 97, 2, 1, 432, 18, 410, 1, 275, 70, 1, 2, 710, 2, 1, 1, 1, 1, 2, 128, 1, 2, 275, 1, 1, 1, 1, 425, 19, 303, 224, 246, 47, 1302, 225, 56, 30, 1, 471, 18, 19, 1...  \n",
       "1   [37, 300, 231, 1, 1, 366, 21, 118, 358, 359, 1, 1, 802, 670, 1, 970, 864, 525, 67, 1880, 1, 130, 254, 13, 1, 1, 1, 1875, 1, 590, 1, 1172, 48, 9, 17, 357, 1, 1, 670, 1...  \n",
       "2   [975, 28, 2, 20, 100, 1466, 253, 1, 564, 321, 265, 346, 130, 263, 451, 261, 34, 1, 317, 68, 321, 67, 486, 1, 2, 1, 442, 432, 38, 1, 1, 302, 1, 1, 241, 2, 1466, 83, 47...  \n",
       "3   [1, 1, 32, 247, 366, 302, 189, 207, 43, 489, 2, 8, 1, 1, 1, 1, 593, 1, 1, 1889, 1, 302, 1978, 6, 20, 996, 1, 1, 1980, 1, 1262, 788, 1, 1, 1, 1, 1, 247, 865, 1, 2036, ...  \n",
       "4   [189, 1672, 1412, 271, 100, 44, 1, 1543, 12, 1, 243, 443, 13, 1543, 19, 312, 123, 312, 142, 1, 1698, 264, 97, 1, 886, 1091, 1, 2, 1, 412, 886, 489, 1, 1, 123, 1, 53, ...  \n",
       "..                                                                                                                                                                        ...  \n",
       "95  [480, 1, 217, 1, 17, 302, 1, 424, 263, 1, 1185, 1201, 1, 1, 128, 302, 9, 1, 62, 62, 56, 32, 44, 228, 20, 476, 100, 1604, 1, 271, 1, 843, 271, 1, 722, 1856, 658, 1044,...  \n",
       "96  [17, 1001, 1, 112, 316, 1487, 423, 1, 1, 1, 1, 1241, 1, 45, 1, 1, 112, 670, 1, 1862, 1016, 502, 593, 1, 1, 20, 272, 1, 1, 1, 1253, 1, 1189, 1, 915, 424, 1295, 1813, 3...  \n",
       "97  [1, 1952, 1953, 1, 372, 1, 186, 45, 1, 1, 83, 119, 65, 916, 1, 1, 1, 1, 164, 1, 1, 62, 684, 2051, 1509, 1367, 660, 164, 1, 1, 1, 1, 1, 1, 705, 224, 225, 1, 1, 462, 1,...  \n",
       "98  [130, 2, 1044, 1045, 38, 13, 189, 142, 272, 56, 225, 518, 1, 1, 2, 629, 1, 1155, 1, 747, 660, 321, 432, 247, 1753, 1, 1, 747, 83, 199, 1, 272, 660, 1330, 2, 67, 1, 1,...  \n",
       "99  [504, 1094, 1649, 205, 1, 1, 52, 1, 114, 247, 368, 565, 129, 1133, 130, 550, 1, 253, 1776, 1767, 1, 1, 1, 1, 1856, 83, 409, 199, 34, 764, 1, 1828, 1, 1, 1, 1415, 1, 1...  \n",
       "\n",
       "[100 rows x 4 columns]"
      ]
     },
     "execution_count": 30,
     "metadata": {},
     "output_type": "execute_result"
    }
   ],
   "source": [
    "test"
   ]
  },
  {
   "cell_type": "code",
   "execution_count": 31,
   "metadata": {},
   "outputs": [
    {
     "data": {
      "text/plain": [
       "array([[ 0, 24,  7, ...,  0,  0,  0],\n",
       "       [ 0, 24,  2, ...,  0,  0,  0],\n",
       "       [ 0, 10,  4, ...,  0,  0,  0],\n",
       "       ...,\n",
       "       [ 0, 46,  4, ...,  0,  0,  0],\n",
       "       [ 0, 16,  5, ...,  0,  0,  0],\n",
       "       [ 0, 24,  0, ...,  0,  0,  0]], dtype=int64)"
      ]
     },
     "execution_count": 31,
     "metadata": {},
     "output_type": "execute_result"
    }
   ],
   "source": [
    "bow_test_words = idx_seqs_to_bows(test['review_idxs'], matrix_length=len(words_lexicon) + 1)\n",
    "bow_test_words"
   ]
  },
  {
   "cell_type": "code",
   "execution_count": 32,
   "metadata": {},
   "outputs": [
    {
     "data": {
      "text/plain": [
       "(100, 2096)"
      ]
     },
     "execution_count": 32,
     "metadata": {},
     "output_type": "execute_result"
    }
   ],
   "source": [
    "bow_test_words.shape"
   ]
  },
  {
   "cell_type": "code",
   "execution_count": 33,
   "metadata": {},
   "outputs": [],
   "source": [
    "# Show predicted ratings for test reviews alongside actual ratings\n",
    "# Since ratings are integers, need to round predicted rating to nearest integer\n",
    "test['pred_rating'] = np.round(reg_bow_model.predict(bow_test_words)[:,0]).astype(int)\n",
    "test[['Review', 'Rating', 'pred_rating']]\n",
    "\n",
    "# Evaluate the model with R^2\n",
    "from sklearn.metrics import r2_score\n",
    "\n",
    "r2 = r2_score(y_true=test['Rating'], y_pred=test['pred_rating'])"
   ]
  },
  {
   "cell_type": "code",
   "execution_count": 34,
   "metadata": {},
   "outputs": [],
   "source": [
    "# RNN Model"
   ]
  },
  {
   "cell_type": "code",
   "execution_count": 35,
   "metadata": {},
   "outputs": [],
   "source": [
    "from tensorflow.keras.preprocessing.sequence import pad_sequences\n",
    "\n",
    "def pad_idx_seqs(idx_seqs):\n",
    "    max_seq_len = max([len(idx_seq) for idx_seq in idx_seqs]) # Get length of longest sequence\n",
    "    padded_idxs = pad_sequences(sequences=idx_seqs, maxlen=max_seq_len) # Keras provides a convenient padding function\n",
    "    return padded_idxs\n",
    "\n",
    "train_padded_idxs = pad_idx_seqs(train['review_idxs'])"
   ]
  },
  {
   "cell_type": "code",
   "execution_count": 36,
   "metadata": {},
   "outputs": [],
   "source": [
    "from tensorflow.keras.layers import Embedding, GRU\n",
    "\n",
    "def create_model_RNN(n_input_nodes, n_embedding_nodes, n_hidden_nodes):\n",
    "    input_layer = Input(shape=(None,))\n",
    "    embedding_layer = Embedding(input_dim=n_input_nodes,\n",
    "                                output_dim=n_embedding_nodes,\n",
    "                                mask_zero=True)(input_layer) #mask_zero tells the model to ignore 0 values (padding)\n",
    "    \n",
    "    gru_layer = GRU(units=n_hidden_nodes)(embedding_layer)\n",
    "    output_layer = Dense(units=1)(gru_layer)\n",
    "\n",
    "    model = Model(inputs=[input_layer], outputs=output_layer)\n",
    "    model.compile(loss=\"mean_squared_error\", optimizer='adam')\n",
    "    \n",
    "    return model"
   ]
  },
  {
   "cell_type": "code",
   "execution_count": 37,
   "metadata": {},
   "outputs": [],
   "source": [
    "rnn_model = create_model_RNN(n_input_nodes=len(words_lexicon) + 1, n_embedding_nodes=300, n_hidden_nodes=500)"
   ]
  },
  {
   "cell_type": "code",
   "execution_count": 38,
   "metadata": {},
   "outputs": [
    {
     "name": "stdout",
     "output_type": "stream",
     "text": [
      "Epoch 1/5\n",
      "5/5 [==============================] - 7s 544ms/step - loss: 42.3550\n",
      "Epoch 2/5\n",
      "5/5 [==============================] - 3s 554ms/step - loss: 61.4319\n",
      "Epoch 3/5\n",
      "5/5 [==============================] - 3s 552ms/step - loss: 30.6303\n",
      "Epoch 4/5\n",
      "5/5 [==============================] - 3s 599ms/step - loss: 34.7325\n",
      "Epoch 5/5\n",
      "5/5 [==============================] - 3s 594ms/step - loss: 35.1054\n"
     ]
    }
   ],
   "source": [
    "# Train the model\n",
    "rnn_model.fit(x=train_padded_idxs, y=train['Rating'], batch_size=20, epochs=5)\n",
    "\n",
    "# Put test reviews in padded matrix\n",
    "test['review_idxs'] = tokens_to_idxs(token_seqs=test['clean_words'],lexicon=words_lexicon)\n",
    "test_padded_idxs = pad_idx_seqs(test['review_idxs'])\n",
    "\n",
    "test['pred_rating_RNN'] = np.round(rnn_model.predict(test_padded_idxs)[:,0]).astype(int)"
   ]
  },
  {
   "cell_type": "code",
   "execution_count": null,
   "metadata": {},
   "outputs": [],
   "source": []
  },
  {
   "cell_type": "code",
   "execution_count": null,
   "metadata": {},
   "outputs": [],
   "source": []
  },
  {
   "cell_type": "markdown",
   "metadata": {},
   "source": [
    "# 2. (evil) XOR Problem\n",
    "\n",
    "Train an LSTM to solve the XOR problem: that is, given a sequence of bits, determine its parity. The LSTM should consume the sequence, one bit at a time, and then output the correct answer at the sequence’s end. Test the two approaches below:\n",
    "\n",
    "### 2.1 \n",
    "\n",
    "Generate a dataset of random <=100,000 binary strings of equal length <= 50. Train the LSTM; what is the maximum length you can train up to with precisison?\n",
    "    \n",
    "\n",
    "### 2.2\n",
    "\n",
    "Generate a dataset of random <=200,000 binary strings, where the length of each string is independently and randomly chosen between 1 and 50. Train the LSTM. Does it succeed? What explains the difference?\n"
   ]
  },
  {
   "cell_type": "code",
   "execution_count": 39,
   "metadata": {},
   "outputs": [],
   "source": [
    "# ref  https://vitez.me/lstm-xor"
   ]
  },
  {
   "cell_type": "code",
   "execution_count": 40,
   "metadata": {},
   "outputs": [
    {
     "name": "stdout",
     "output_type": "stream",
     "text": [
      "shape check: (100000, 50, 2) = (100000, 50, 2)\n"
     ]
    }
   ],
   "source": [
    "from tensorflow.keras import optimizers\n",
    "from tensorflow.keras.layers import Dense, Input, LSTM\n",
    "from tensorflow.keras.models import Sequential\n",
    "import numpy as np\n",
    "import random\n",
    "\n",
    "\n",
    "SEQ_LEN = 50\n",
    "COUNT = 100000\n",
    "bin_pair = lambda x: [x, not(x)]\n",
    "training = np.array([[bin_pair(random.choice([0, 1])) for _ in range(SEQ_LEN)] for _ in range(COUNT)])\n",
    "target = np.array([[bin_pair(x) for x in np.cumsum(example[:,0]) % 2] for example in training])\n",
    "print('shape check:', training.shape, '=', target.shape)"
   ]
  },
  {
   "cell_type": "code",
   "execution_count": 41,
   "metadata": {},
   "outputs": [
    {
     "name": "stdout",
     "output_type": "stream",
     "text": [
      "Epoch 1/10\n",
      "782/782 [==============================] - 15s 16ms/step - loss: 0.6933 - accuracy: 0.5039\n",
      "Epoch 2/10\n",
      "782/782 [==============================] - 13s 16ms/step - loss: 0.6916 - accuracy: 0.4980\n",
      "Epoch 3/10\n",
      "782/782 [==============================] - 13s 16ms/step - loss: 0.6822 - accuracy: 0.5216\n",
      "Epoch 4/10\n",
      "782/782 [==============================] - 13s 17ms/step - loss: 0.3292 - accuracy: 0.9870\n",
      "Epoch 5/10\n",
      "782/782 [==============================] - 13s 17ms/step - loss: 0.1668 - accuracy: 1.0000\n",
      "Epoch 6/10\n",
      "782/782 [==============================] - 13s 16ms/step - loss: 0.1159 - accuracy: 1.0000\n",
      "Epoch 7/10\n",
      "782/782 [==============================] - 13s 17ms/step - loss: 0.0859 - accuracy: 1.0000\n",
      "Epoch 8/10\n",
      "782/782 [==============================] - 13s 16ms/step - loss: 0.0654 - accuracy: 1.0000\n",
      "Epoch 9/10\n",
      "782/782 [==============================] - 12s 16ms/step - loss: 0.0508 - accuracy: 1.0000\n",
      "Epoch 10/10\n",
      "782/782 [==============================] - 13s 16ms/step - loss: 0.0397 - accuracy: 1.0000\n"
     ]
    },
    {
     "data": {
      "text/plain": [
       "<tensorflow.python.keras.callbacks.History at 0x1a000123340>"
      ]
     },
     "execution_count": 41,
     "metadata": {},
     "output_type": "execute_result"
    }
   ],
   "source": [
    "# Build Model\n",
    "\n",
    "model = Sequential()\n",
    "model.add(Input(shape=(SEQ_LEN, 2), dtype='float32'))\n",
    "model.add(LSTM(1, return_sequences=True))\n",
    "model.add(Dense(2, activation='softmax'))\n",
    "model.compile(loss='binary_crossentropy', optimizer='adam', metrics=['accuracy'])\n",
    "model.fit(training, target, epochs=10, batch_size=128)"
   ]
  },
  {
   "cell_type": "code",
   "execution_count": 42,
   "metadata": {},
   "outputs": [
    {
     "name": "stdout",
     "output_type": "stream",
     "text": [
      "Model: \"sequential\"\n",
      "_________________________________________________________________\n",
      "Layer (type)                 Output Shape              Param #   \n",
      "=================================================================\n",
      "lstm (LSTM)                  (None, 50, 1)             16        \n",
      "_________________________________________________________________\n",
      "dense_3 (Dense)              (None, 50, 2)             4         \n",
      "=================================================================\n",
      "Total params: 20\n",
      "Trainable params: 20\n",
      "Non-trainable params: 0\n",
      "_________________________________________________________________\n"
     ]
    }
   ],
   "source": [
    "model.summary()"
   ]
  },
  {
   "cell_type": "code",
   "execution_count": 43,
   "metadata": {},
   "outputs": [],
   "source": [
    "predictions = model.predict(training)\n",
    "i = random.randint(0, COUNT)\n",
    "chance = predictions[i,-1,0]"
   ]
  },
  {
   "cell_type": "code",
   "execution_count": 44,
   "metadata": {},
   "outputs": [
    {
     "name": "stdout",
     "output_type": "stream",
     "text": [
      "randomly selected sequence: [1 0 1 1 1 1 1 0 1 0 1 0 0 1 0 1 0 1 1 1 0 0 1 0 0 0 1 0 1 1 1 0 0 0 0 1 0\n",
      " 0 1 1 1 1 1 0 1 0 0 1 0 1]\n",
      "prediction: 1\n",
      "confidence: 99.83%\n",
      "actual: 1\n"
     ]
    }
   ],
   "source": [
    "print('randomly selected sequence:', training[i,:,0])\n",
    "print('prediction:', int(chance > 0.5))\n",
    "print('confidence: {:0.2f}%'.format((chance if chance > 0.5 else 1 - chance) * 100))\n",
    "print('actual:', np.sum(training[i,:,0]) % 2)"
   ]
  },
  {
   "cell_type": "code",
   "execution_count": null,
   "metadata": {},
   "outputs": [],
   "source": []
  }
 ],
 "metadata": {
  "kernelspec": {
   "display_name": "Python 3",
   "language": "python",
   "name": "python3"
  },
  "language_info": {
   "codemirror_mode": {
    "name": "ipython",
    "version": 3
   },
   "file_extension": ".py",
   "mimetype": "text/x-python",
   "name": "python",
   "nbconvert_exporter": "python",
   "pygments_lexer": "ipython3",
   "version": "3.8.3"
  }
 },
 "nbformat": 4,
 "nbformat_minor": 5
}
